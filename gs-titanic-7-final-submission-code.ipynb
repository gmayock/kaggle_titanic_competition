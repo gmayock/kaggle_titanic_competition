{
 "cells": [
  {
   "cell_type": "markdown",
   "metadata": {
    "_cell_guid": "b1076dfc-b9ad-4769-8c92-a6c4dae69d19",
    "_uuid": "8f2839f25d086af736a60e9eeb907d3b93b6e0e5"
   },
   "source": [
    "# Load data"
   ]
  },
  {
   "cell_type": "code",
   "execution_count": 1,
   "metadata": {
    "_cell_guid": "79c7e3d0-c299-4dcb-8224-4455121ee9b0",
    "_uuid": "d629ff2d2480ee46fbb7e2d37f6b5fab8052498a"
   },
   "outputs": [],
   "source": [
    "# Ignore warnings to clean up output after all the code was written\n",
    "import warnings\n",
    "warnings.filterwarnings(\"ignore\")"
   ]
  },
  {
   "cell_type": "code",
   "execution_count": 2,
   "metadata": {
    "_uuid": "988ceda25945d25f95886ddd5d114ee0de2a50f3"
   },
   "outputs": [
    {
     "name": "stdout",
     "output_type": "stream",
     "text": [
      "['train.csv', 'gender_submission.csv', 'test.csv']\n"
     ]
    }
   ],
   "source": [
    "import numpy as np\n",
    "import pandas as pd \n",
    "import os\n",
    "print(os.listdir(\"../input\"))\n",
    "['train.csv', 'gender_submission.csv', 'test.csv']\n",
    "# Step 1 is to import both data sets\n",
    "training_data = pd.read_csv(\"../input/train.csv\")\n",
    "testing_data = pd.read_csv(\"../input/test.csv\")\n",
    "\n",
    "# Step two is to create columns which I will add to the respective datasets, in order to know which row came from which dataset when I combine the datasets\n",
    "training_column = pd.Series([1] * len(training_data))\n",
    "testing_column = pd.Series([0] * len(testing_data))\n",
    "\n",
    "# Now we append them by creating new columns in the original data. We use the same column name\n",
    "training_data['is_training_data'] = training_column\n",
    "testing_data['is_training_data'] = testing_column"
   ]
  },
  {
   "cell_type": "markdown",
   "metadata": {
    "_uuid": "d54b880372074ee9394fb73b229515b589f19be5"
   },
   "source": [
    "# Combine and process"
   ]
  },
  {
   "cell_type": "code",
   "execution_count": 3,
   "metadata": {
    "_uuid": "a9f72b9543c0da9db7027389839ba7a66370b37a"
   },
   "outputs": [],
   "source": [
    "# Now we can merge the datasets while retaining the key to split them later\n",
    "combined_data = training_data.append(testing_data, ignore_index=True, sort=False)\n",
    "\n",
    "# Encode gender (if == female, True)\n",
    "combined_data['female'] = combined_data.Sex == 'female'\n",
    "\n",
    "# Split out Title\n",
    "title = []\n",
    "for i in combined_data['Name']:\n",
    "    period = i.find(\".\")\n",
    "    comma = i.find(\",\")\n",
    "    title_value = i[comma+2:period]\n",
    "    title.append(title_value)\n",
    "combined_data['title'] = title\n",
    "\n",
    "# Replace the title values with an aliased dictionary\n",
    "title_arr = pd.Series(title)\n",
    "title_dict = {\n",
    "    'Mr' : 'Mr', \n",
    "    'Mrs' : 'Mrs',\n",
    "    'Miss' : 'Miss',\n",
    "    'Master' : 'Master',\n",
    "    'Don' : 'Formal',\n",
    "    'Dona' : 'Formal',\n",
    "    'Rev' : 'Religious',\n",
    "    'Dr' : 'Academic',\n",
    "    'Mme' : 'Mrs',\n",
    "    'Ms' : 'Miss',\n",
    "    'Major' : 'Formal',\n",
    "    'Lady' : 'Formal',\n",
    "    'Sir' : 'Formal',\n",
    "    'Mlle' : 'Miss',\n",
    "    'Col' : 'Formal',\n",
    "    'Capt' : 'Formal',\n",
    "    'the Countess' : 'Formal',\n",
    "    'Jonkheer' : 'Formal',\n",
    "}\n",
    "cleaned_title = title_arr.map(title_dict)\n",
    "combined_data['cleaned_title'] = cleaned_title\n",
    "\n",
    "# Fill NaN of Age - first create groups to find better medians than just the overall median and fill NaN with the grouped medians\n",
    "grouped = combined_data.groupby(['female','Pclass', 'cleaned_title']) \n",
    "combined_data['Age'] = grouped.Age.apply(lambda x: x.fillna(x.median()))\n",
    "\n",
    "#add an age bin\n",
    "age_bin_conditions = [\n",
    "    combined_data['Age'] == 0,\n",
    "    (combined_data['Age'] > 0) & (combined_data['Age'] <= 16),\n",
    "    (combined_data['Age'] > 16) & (combined_data['Age'] <= 32),\n",
    "    (combined_data['Age'] > 32) & (combined_data['Age'] <= 48),\n",
    "    (combined_data['Age'] > 48) & (combined_data['Age'] <= 64),\n",
    "    combined_data['Age'] > 64\n",
    "]\n",
    "age_bin_outputs = [0, 1, 2, 3, 4, 5]\n",
    "combined_data['age_bin'] = np.select(age_bin_conditions, age_bin_outputs, 'Other').astype(int)\n",
    "\n",
    "# Fill NaN of Embarked\n",
    "combined_data['Embarked'] = combined_data['Embarked'].fillna(\"S\") \n",
    "\n",
    "# Fill NaN of Fare, adding flag for boarded free, binning other fares\n",
    "combined_data['Fare'] = combined_data['Fare'].fillna(combined_data['Fare'].mode()[0]) \n",
    "combined_data['boarded_free'] = combined_data['Fare'] == 0 \n",
    "fare_bin_conditions = [\n",
    "    combined_data['Fare'] == 0,\n",
    "    (combined_data['Fare'] > 0) & (combined_data['Fare'] <= 7.9),\n",
    "    (combined_data['Fare'] > 7.9) & (combined_data['Fare'] <= 14.4),\n",
    "    (combined_data['Fare'] > 14.4) & (combined_data['Fare'] <= 31),\n",
    "    combined_data['Fare'] > 31\n",
    "]\n",
    "fare_bin_outputs = [0, 1, 2, 3, 4]\n",
    "combined_data['fare_bin'] = np.select(fare_bin_conditions, fare_bin_outputs, 'Other').astype(int)\n",
    "\n",
    "# Fill NaN of Cabin with a U for unknown. Not sure cabin will help.\n",
    "combined_data['Cabin'] = combined_data['Cabin'].fillna(\"U\") \n",
    "\n",
    "# Counting how many people are riding on a ticket\n",
    "from collections import Counter\n",
    "tickets_count = pd.DataFrame([Counter(combined_data['Ticket']).keys(), Counter(combined_data['Ticket']).values()]).T\n",
    "tickets_count.rename(columns={0:'Ticket', 1:'ticket_riders'}, inplace=True)\n",
    "tickets_count['ticket_riders'] = tickets_count['ticket_riders'].astype(int)\n",
    "combined_data = combined_data.merge(tickets_count, on='Ticket')\n",
    "\n",
    "# Finding survival rate for people sharing a ticket\n",
    "# Note that looking at the mean automatically drops NaNs, so we don't have an issue with using the combined data to calculate survival rate as opposed to just the training data\n",
    "combined_data['ticket_rider_survival'] = combined_data['Survived'].mean()\n",
    "\n",
    "# # Finding survival rate for people sharing a ticket (cont'd)\n",
    "# This groups the data by ticket\n",
    "# And then if the ticket group is greater than length 1 (aka more than 1 person rode on the ticket)\n",
    "# it looks at the max and min of the _other_ rows in the group (by taking the max/min after dropping the current row)\n",
    "# and if the max is 1, it replaces the default survival rate of .3838383 (the mean) with 1. This represents there being\n",
    "# at least one known member of the ticket group which survived. If there is no known survivor on that ticket, but there  \n",
    "# is a known fatality, the value is replaced with 0, representing there was at least one known death in that group. If\n",
    "# neither, then the value remains the mean. \n",
    "for ticket_group, ticket_group_df in combined_data[['Survived', 'Ticket', 'PassengerId']].groupby(['Ticket']):\n",
    "    if (len(ticket_group_df) != 1):\n",
    "        for index, row in ticket_group_df.iterrows():\n",
    "            smax = ticket_group_df.drop(index)['Survived'].max()\n",
    "            smin = ticket_group_df.drop(index)['Survived'].min()\n",
    "            if (smax == 1.0):\n",
    "                combined_data.loc[combined_data['PassengerId'] == row['PassengerId'], 'ticket_rider_survival'] = 1\n",
    "            elif (smin==0.0):\n",
    "                combined_data.loc[combined_data['PassengerId'] == row['PassengerId'], 'ticket_rider_survival'] = 0\n",
    "\n",
    "# Finding survival rate for people with a shared last name (same method as above basically)\n",
    "combined_data['last_name'] = combined_data['Name'].apply(lambda x: str.split(x, \",\")[0])  \n",
    "combined_data['last_name_group_survival'] = combined_data['Survived'].mean()\n",
    "\n",
    "for last_name_group, last_name_group_df in combined_data[['Survived', 'last_name', 'PassengerId']].groupby(['last_name']):\n",
    "    if (len(last_name_group_df) != 1):\n",
    "        for index, row in last_name_group_df.iterrows():\n",
    "            smax = last_name_group_df.drop(index)['Survived'].max()\n",
    "            smin = last_name_group_df.drop(index)['Survived'].min()\n",
    "            if (smax == 1.0):\n",
    "                combined_data.loc[combined_data['PassengerId'] == row['PassengerId'], 'last_name_group_survival'] = 1\n",
    "            elif (smin==0.0):\n",
    "                combined_data.loc[combined_data['PassengerId'] == row['PassengerId'], 'last_name_group_survival'] = 0\n",
    "\n",
    "# Finding survival rate for people with a shared last name _and_ fare\n",
    "combined_data['last_name_fare_group_survival'] = combined_data['Survived'].mean()\n",
    "\n",
    "for last_name_fare_group, last_name_fare_group_df in combined_data[['Survived', 'last_name', 'Fare', 'PassengerId']].groupby(['last_name', 'Fare']):\n",
    "    if (len(last_name_fare_group_df) != 1):\n",
    "        for index, row in last_name_fare_group_df.iterrows():\n",
    "            smax = last_name_fare_group_df.drop(index)['Survived'].max()\n",
    "            smin = last_name_fare_group_df.drop(index)['Survived'].min()\n",
    "            if (smax == 1.0):\n",
    "                combined_data.loc[combined_data['PassengerId'] == row['PassengerId'], 'last_name_fare_group_survival'] = 1\n",
    "            elif (smin==0.0):\n",
    "                combined_data.loc[combined_data['PassengerId'] == row['PassengerId'], 'last_name_fare_group_survival'] = 0\n",
    "                \n",
    "# Finding cabin group\n",
    "cabin_group = []\n",
    "for i in combined_data['Cabin']:\n",
    "    cabin_group.append(i[0])\n",
    "combined_data['cabin_group'] = cabin_group\n",
    "\n",
    "# Adding a family_size feature as it may have an inverse relationship to either of its parts\n",
    "combined_data['family_size'] = combined_data.Parch + combined_data.SibSp + 1\n",
    "\n",
    "# Mapping ports to passenger pickup order\n",
    "port = {\n",
    "    'S' : 1,\n",
    "    'C' : 2,\n",
    "    'Q' : 3\n",
    "}\n",
    "combined_data['pickup_order'] = combined_data['Embarked'].map(port)\n",
    "\n",
    "# Encode childhood\n",
    "combined_data['child'] = combined_data.Age < 16\n",
    "\n",
    "# One-Hot Encoding the titles\n",
    "combined_data = pd.concat([combined_data, pd.get_dummies(combined_data['cleaned_title'], prefix=\"C_T\")], axis = 1)\n",
    "\n",
    "# One-Hot Encoding the Pclass\n",
    "combined_data = pd.concat([combined_data, pd.get_dummies(combined_data['Pclass'], prefix=\"PClass\")], axis = 1)\n",
    "\n",
    "# One-Hot Encoding the  cabin group\n",
    "combined_data = pd.concat([combined_data, pd.get_dummies(combined_data['cabin_group'], prefix=\"C_G\")], axis = 1)\n",
    "\n",
    "# One-Hot Encoding the ports\n",
    "combined_data = pd.concat([combined_data, pd.get_dummies(combined_data['Embarked'], prefix=\"Embarked\")], axis = 1)"
   ]
  },
  {
   "cell_type": "markdown",
   "metadata": {
    "_uuid": "a1db7d5aeb6f9f87b9e49e86d202c5e9a0a22af0"
   },
   "source": [
    "# Import Classifier (only KNN in the end, see previous notebooks for exploration)"
   ]
  },
  {
   "cell_type": "code",
   "execution_count": 4,
   "metadata": {
    "_uuid": "d91add9608d289719f44b7c4312a6125f2e49ac9"
   },
   "outputs": [],
   "source": [
    "new_train_data=combined_data.loc[combined_data['is_training_data']==1]\n",
    "new_test_data=combined_data.loc[combined_data['is_training_data']==0]\n",
    "# here is the reduced model set and metric tools\n",
    "\n",
    "from sklearn.neighbors import KNeighborsClassifier\n",
    "from sklearn.model_selection import KFold\n",
    "from sklearn.model_selection import cross_val_score\n",
    "k_fold = KFold(n_splits = 10, shuffle=True, random_state=0) \n",
    "from sklearn.model_selection import cross_val_predict\n",
    "from sklearn.metrics import confusion_matrix"
   ]
  },
  {
   "cell_type": "markdown",
   "metadata": {
    "_uuid": "0065895e8367fdc686782e9cb00051a59a350801"
   },
   "source": [
    "# Define features"
   ]
  },
  {
   "cell_type": "code",
   "execution_count": 5,
   "metadata": {
    "_uuid": "7a71be4d0d3017d1c981a605a95228044d39d279"
   },
   "outputs": [],
   "source": [
    "# Here are the features\n",
    "features = ['Pclass', 'Age', 'SibSp', 'Parch', 'Fare', 'female', 'child', 'C_T_Master', 'C_T_Miss', 'C_T_Mr', 'C_T_Mrs',\n",
    "            'C_T_Formal','C_T_Academic', 'C_T_Religious','C_G_A', 'C_G_B', 'C_G_C', 'C_G_D', 'C_G_E', 'C_G_F', 'C_G_G', \n",
    "            'C_G_T', 'C_G_U', 'family_size', 'ticket_riders', 'ticket_rider_survival', 'last_name_group_survival', 'last_name_fare_group_survival']\n",
    "target = 'Survived'\n",
    "cvs_train_data = new_train_data[features]\n",
    "cvs_test_data = new_test_data[features]\n",
    "cvs_target = new_train_data['Survived']"
   ]
  },
  {
   "cell_type": "markdown",
   "metadata": {
    "_uuid": "f05c234d6da646fcdb0158080151ebd5db10dc60"
   },
   "source": [
    "# Scale them"
   ]
  },
  {
   "cell_type": "code",
   "execution_count": 6,
   "metadata": {
    "_uuid": "5de36b41dc3c2af7c61626df027b2526841e08c4"
   },
   "outputs": [
    {
     "data": {
      "text/plain": [
       "((891, 28), (418, 28), (891,))"
      ]
     },
     "execution_count": 6,
     "metadata": {},
     "output_type": "execute_result"
    }
   ],
   "source": [
    "from sklearn.preprocessing import MinMaxScaler\n",
    "mm_scaler = MinMaxScaler()\n",
    "mms_train_data = mm_scaler.fit_transform(cvs_train_data)\n",
    "mms_test_data = mm_scaler.transform(cvs_test_data)\n",
    "mms_target = new_train_data['Survived']\n",
    "mms_train_data.shape, mms_test_data.shape, mms_target.shape"
   ]
  },
  {
   "cell_type": "markdown",
   "metadata": {
    "_uuid": "00001462139d48eb236fbd20850d84bf0b8d10df"
   },
   "source": [
    "# GridSearchCV for KNN"
   ]
  },
  {
   "cell_type": "code",
   "execution_count": 7,
   "metadata": {
    "_uuid": "f20efc3df576d54b4c00c60b20ba09bee5fbe4dc"
   },
   "outputs": [],
   "source": [
    "from sklearn.model_selection import GridSearchCV"
   ]
  },
  {
   "cell_type": "code",
   "execution_count": 8,
   "metadata": {
    "_uuid": "2338459cc6a2fad6308a1f4b2e00789e4291873a"
   },
   "outputs": [
    {
     "name": "stdout",
     "output_type": "stream",
     "text": [
      "Fitting 10 folds for each of 280 candidates, totalling 2800 fits\n"
     ]
    },
    {
     "name": "stderr",
     "output_type": "stream",
     "text": [
      "[Parallel(n_jobs=1)]: Using backend SequentialBackend with 1 concurrent workers.\n"
     ]
    },
    {
     "name": "stdout",
     "output_type": "stream",
     "text": [
      "0.8439955106621774\n",
      "KNeighborsClassifier(algorithm='auto', leaf_size=10, metric='minkowski',\n",
      "           metric_params=None, n_jobs=None, n_neighbors=19, p=2,\n",
      "           weights='uniform')\n"
     ]
    },
    {
     "name": "stderr",
     "output_type": "stream",
     "text": [
      "[Parallel(n_jobs=1)]: Done 2800 out of 2800 | elapsed:  1.7min finished\n"
     ]
    }
   ],
   "source": [
    "# on all features\n",
    "n_neighbors = [14, 16, 17, 18, 19, 20, 22]\n",
    "algorithm = ['auto']\n",
    "weights = ['uniform', 'distance']\n",
    "leaf_size = list(range(10,30,1))\n",
    "hyperparams = {'algorithm': algorithm, 'weights': weights, 'leaf_size': leaf_size, \n",
    "               'n_neighbors': n_neighbors}\n",
    "gd=GridSearchCV(estimator = KNeighborsClassifier(), param_grid = hyperparams, verbose=True, \n",
    "                cv=k_fold, scoring = \"accuracy\")\n",
    "gd.fit(mms_train_data, mms_target)\n",
    "print(gd.best_score_)\n",
    "print(gd.best_estimator_)"
   ]
  },
  {
   "cell_type": "code",
   "execution_count": 9,
   "metadata": {
    "_uuid": "6a851e1d672dbb0a66e0e577a399b7cee8bbdb2d"
   },
   "outputs": [],
   "source": [
    "gd.best_estimator_.fit(mms_train_data, mms_target)\n",
    "prediction = gd.best_estimator_.predict(mms_test_data)\n",
    "submission = pd.DataFrame({\n",
    "    \"PassengerId\" : new_test_data['PassengerId'],\n",
    "    \"Survived\" : prediction.astype(int)\n",
    "})\n",
    "submission_name = 'knn_all_feat.csv'\n",
    "submission.to_csv(submission_name, index=False)"
   ]
  }
 ],
 "metadata": {
  "kernelspec": {
   "display_name": "Python 3",
   "language": "python",
   "name": "python3"
  },
  "language_info": {
   "codemirror_mode": {
    "name": "ipython",
    "version": 3
   },
   "file_extension": ".py",
   "mimetype": "text/x-python",
   "name": "python",
   "nbconvert_exporter": "python",
   "pygments_lexer": "ipython3",
   "version": "3.6.6"
  }
 },
 "nbformat": 4,
 "nbformat_minor": 1
}
